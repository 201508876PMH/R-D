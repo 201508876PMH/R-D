{
 "cells": [
  {
   "cell_type": "markdown",
   "id": "75d5edb7-7a37-4c8b-8c9b-00d4fcfc306d",
   "metadata": {},
   "source": [
    "# Rapids KMeans"
   ]
  },
  {
   "cell_type": "markdown",
   "id": "7f4a600c-b3b5-4ae7-a94c-dd3b3e8515c2",
   "metadata": {},
   "source": [
    "### Loaded with the MNIST dataset, with TensorFlow and Keras."
   ]
  },
  {
   "cell_type": "code",
   "execution_count": 1,
   "id": "b6586745-a52b-4c7b-b39f-e78c7d43fed4",
   "metadata": {},
   "outputs": [
    {
     "name": "stdout",
     "output_type": "stream",
     "text": [
      "Number of training images: 60000\n",
      "Number of test images: 10000\n",
      "Number of unique classes: 10\n"
     ]
    }
   ],
   "source": [
    "from cuml.dask.cluster import KMeans\n",
    "from keras.datasets import mnist\n",
    "from sklearn.decomposition import PCA\n",
    "\n",
    "import numpy as np\n",
    "import pandas as pd\n",
    "import time\n",
    "import dask_cudf\n",
    "import cudf\n",
    "import cupy\n",
    "\n",
    "#Load Data\n",
    "(x_train, y_train), (x_test, y_test) = mnist.load_data()\n",
    "x_train_reshaped = x_train.reshape((60000, 784))\n",
    "pca = PCA(2)\n",
    "\n",
    "print(\"Number of training images: \" + str(len(x_train)))\n",
    "print(\"Number of test images: \" + str(len(x_test)))\n",
    "print(\"Number of unique classes: \" + str(len(np.unique(y_train))))\n",
    "\n",
    "#Transform the data\n",
    "pca_transformed = pca.fit_transform(x_train_reshaped)\n",
    "et_eller_andet = pca_transformed\n",
    "\n",
    "def np2cudf(df):\n",
    "    # convert numpy array to cuDF dataframe\n",
    "    df = pd.DataFrame({'fea%d'%i:df[:,i] for i in range(df.shape[1])})\n",
    "    pdf = cudf.DataFrame()\n",
    "    for c,column in enumerate(df):\n",
    "      pdf[str(c)] = df[column]\n",
    "    return pdf\n",
    "\n",
    "b = np2cudf(pca_transformed)\n",
    "csv_cuda_splitted = dask_cudf.from_cudf(b, npartitions=10)"
   ]
  },
  {
   "cell_type": "code",
   "execution_count": 2,
   "id": "f90b5a3a-7ee8-4ba4-bdcf-9cb95db5b8c8",
   "metadata": {},
   "outputs": [
    {
     "name": "stderr",
     "output_type": "stream",
     "text": [
      "/opt/conda/envs/rapids/lib/python3.7/site-packages/distributed/node.py:161: UserWarning: Port 8787 is already in use.\n",
      "Perhaps you already have a cluster running?\n",
      "Hosting the HTTP server on port 42977 instead\n",
      "  f\"Port {expected} is already in use.\\n\"\n"
     ]
    }
   ],
   "source": [
    "# Dask cuda imports\n",
    "from dask_cuda import LocalCUDACluster\n",
    "from dask.distributed import Client\n",
    "cluster = LocalCUDACluster()\n",
    "cuda_client = Client(cluster)"
   ]
  },
  {
   "cell_type": "code",
   "execution_count": 3,
   "id": "53698a17-5397-4d1f-8189-9b4c2bd25b41",
   "metadata": {},
   "outputs": [
    {
     "data": {
      "text/plain": [
       "5.879716157913208"
      ]
     },
     "execution_count": 3,
     "metadata": {},
     "output_type": "execute_result"
    }
   ],
   "source": [
    "t_start = time.time()\n",
    "\n",
    "#Initialize the class object\n",
    "kmeans = KMeans(n_clusters=10, client=cuda_client, random_state=0)\n",
    "\n",
    "#predict the labels of clusters.\n",
    "label = kmeans.fit_predict(csv_cuda_splitted)\n",
    "\n",
    "t_stop = time.time()\n",
    "\n",
    "t_final = t_stop - t_start\n",
    "t_final"
   ]
  },
  {
   "cell_type": "code",
   "execution_count": 4,
   "id": "2bfe2660-4f95-4385-bcaf-ca76fc1326e9",
   "metadata": {},
   "outputs": [
    {
     "name": "stdout",
     "output_type": "stream",
     "text": [
      "Labels: <dask_cudf.Series | 31 tasks | 10 npartitions>\n"
     ]
    }
   ],
   "source": [
    "print(\"Labels: \" + str(label))"
   ]
  },
  {
   "cell_type": "markdown",
   "id": "097bc9be-2125-4319-94ee-348682ab436f",
   "metadata": {},
   "source": [
    "### Plotting dataimport matplotlib.pyplot as plt"
   ]
  },
  {
   "cell_type": "code",
   "execution_count": 5,
   "id": "662e7efd-f60a-4d27-b23b-71d81e2c113a",
   "metadata": {},
   "outputs": [
    {
     "name": "stdout",
     "output_type": "stream",
     "text": [
      "0       8\n",
      "1       3\n",
      "2       1\n",
      "3       7\n",
      "4       1\n",
      "       ..\n",
      "5995    5\n",
      "5996    8\n",
      "5997    6\n",
      "5998    8\n",
      "5999    5\n",
      "Length: 6000, dtype: int32\n"
     ]
    },
    {
     "ename": "TypeError",
     "evalue": "Implicit conversion to a host NumPy array via __array__ is not allowed, To explicitly construct a GPU array, consider using cupy.asarray(...)\nTo explicitly construct a host array, consider using .to_array()",
     "output_type": "error",
     "traceback": [
      "\u001b[0;31m---------------------------------------------------------------------------\u001b[0m",
      "\u001b[0;31mTypeError\u001b[0m                                 Traceback (most recent call last)",
      "\u001b[0;32m<ipython-input-5-9c60260c04db>\u001b[0m in \u001b[0;36m<module>\u001b[0;34m\u001b[0m\n\u001b[1;32m      7\u001b[0m \u001b[0;31m#label = label.to_array()\u001b[0m\u001b[0;34m\u001b[0m\u001b[0;34m\u001b[0m\u001b[0;34m\u001b[0m\u001b[0m\n\u001b[1;32m      8\u001b[0m \u001b[0mprint\u001b[0m\u001b[0;34m(\u001b[0m\u001b[0mkmeans\u001b[0m\u001b[0;34m.\u001b[0m\u001b[0mlabels_\u001b[0m\u001b[0;34m)\u001b[0m\u001b[0;34m\u001b[0m\u001b[0;34m\u001b[0m\u001b[0m\n\u001b[0;32m----> 9\u001b[0;31m \u001b[0mfiltered_label0\u001b[0m \u001b[0;34m=\u001b[0m \u001b[0met_eller_andet\u001b[0m\u001b[0;34m[\u001b[0m\u001b[0mlabel\u001b[0m \u001b[0;34m==\u001b[0m \u001b[0;36m0\u001b[0m\u001b[0;34m]\u001b[0m\u001b[0;34m\u001b[0m\u001b[0;34m\u001b[0m\u001b[0m\n\u001b[0m\u001b[1;32m     10\u001b[0m \u001b[0mprint\u001b[0m\u001b[0;34m(\u001b[0m\u001b[0mlen\u001b[0m\u001b[0;34m(\u001b[0m\u001b[0mfiltered_label0\u001b[0m\u001b[0;34m)\u001b[0m\u001b[0;34m)\u001b[0m\u001b[0;34m\u001b[0m\u001b[0;34m\u001b[0m\u001b[0m\n\u001b[1;32m     11\u001b[0m \u001b[0;34m\u001b[0m\u001b[0m\n",
      "\u001b[0;32m/opt/conda/envs/rapids/lib/python3.7/site-packages/dask/dataframe/core.py\u001b[0m in \u001b[0;36m__array__\u001b[0;34m(self, dtype, **kwargs)\u001b[0m\n\u001b[1;32m    427\u001b[0m     \u001b[0;32mdef\u001b[0m \u001b[0m__array__\u001b[0m\u001b[0;34m(\u001b[0m\u001b[0mself\u001b[0m\u001b[0;34m,\u001b[0m \u001b[0mdtype\u001b[0m\u001b[0;34m=\u001b[0m\u001b[0;32mNone\u001b[0m\u001b[0;34m,\u001b[0m \u001b[0;34m**\u001b[0m\u001b[0mkwargs\u001b[0m\u001b[0;34m)\u001b[0m\u001b[0;34m:\u001b[0m\u001b[0;34m\u001b[0m\u001b[0;34m\u001b[0m\u001b[0m\n\u001b[1;32m    428\u001b[0m         \u001b[0mself\u001b[0m\u001b[0;34m.\u001b[0m\u001b[0m_computed\u001b[0m \u001b[0;34m=\u001b[0m \u001b[0mself\u001b[0m\u001b[0;34m.\u001b[0m\u001b[0mcompute\u001b[0m\u001b[0;34m(\u001b[0m\u001b[0;34m)\u001b[0m\u001b[0;34m\u001b[0m\u001b[0;34m\u001b[0m\u001b[0m\n\u001b[0;32m--> 429\u001b[0;31m         \u001b[0mx\u001b[0m \u001b[0;34m=\u001b[0m \u001b[0mnp\u001b[0m\u001b[0;34m.\u001b[0m\u001b[0marray\u001b[0m\u001b[0;34m(\u001b[0m\u001b[0mself\u001b[0m\u001b[0;34m.\u001b[0m\u001b[0m_computed\u001b[0m\u001b[0;34m)\u001b[0m\u001b[0;34m\u001b[0m\u001b[0;34m\u001b[0m\u001b[0m\n\u001b[0m\u001b[1;32m    430\u001b[0m         \u001b[0;32mreturn\u001b[0m \u001b[0mx\u001b[0m\u001b[0;34m\u001b[0m\u001b[0;34m\u001b[0m\u001b[0m\n\u001b[1;32m    431\u001b[0m \u001b[0;34m\u001b[0m\u001b[0m\n",
      "\u001b[0;32m/opt/conda/envs/rapids/lib/python3.7/site-packages/cudf/core/frame.py\u001b[0m in \u001b[0;36m__array__\u001b[0;34m(self, dtype)\u001b[0m\n\u001b[1;32m   1637\u001b[0m     \u001b[0;32mdef\u001b[0m \u001b[0m__array__\u001b[0m\u001b[0;34m(\u001b[0m\u001b[0mself\u001b[0m\u001b[0;34m,\u001b[0m \u001b[0mdtype\u001b[0m\u001b[0;34m=\u001b[0m\u001b[0;32mNone\u001b[0m\u001b[0;34m)\u001b[0m\u001b[0;34m:\u001b[0m\u001b[0;34m\u001b[0m\u001b[0;34m\u001b[0m\u001b[0m\n\u001b[1;32m   1638\u001b[0m         raise TypeError(\n\u001b[0;32m-> 1639\u001b[0;31m             \u001b[0;34m\"Implicit conversion to a host NumPy array via __array__ is not \"\u001b[0m\u001b[0;34m\u001b[0m\u001b[0;34m\u001b[0m\u001b[0m\n\u001b[0m\u001b[1;32m   1640\u001b[0m             \u001b[0;34m\"allowed, To explicitly construct a GPU array, consider using \"\u001b[0m\u001b[0;34m\u001b[0m\u001b[0;34m\u001b[0m\u001b[0m\n\u001b[1;32m   1641\u001b[0m             \u001b[0;34m\"cupy.asarray(...)\\nTo explicitly construct a \"\u001b[0m\u001b[0;34m\u001b[0m\u001b[0;34m\u001b[0m\u001b[0m\n",
      "\u001b[0;31mTypeError\u001b[0m: Implicit conversion to a host NumPy array via __array__ is not allowed, To explicitly construct a GPU array, consider using cupy.asarray(...)\nTo explicitly construct a host array, consider using .to_array()"
     ]
    },
    {
     "data": {
      "text/plain": [
       "<Figure size 640x480 with 0 Axes>"
      ]
     },
     "metadata": {},
     "output_type": "display_data"
    }
   ],
   "source": [
    "import matplotlib.pyplot as plt\n",
    "from matplotlib.pyplot import figure\n",
    "\n",
    "figure(figsize=(8, 6), dpi=80)\n",
    "\n",
    "#filter rows of original data\n",
    "#label = label.to_array()\n",
    "print(kmeans.labels_)\n",
    "filtered_label0 = et_eller_andet[label == 0]\n",
    "print(len(filtered_label0))\n",
    "\n",
    "#Getting unique labels\n",
    "u_labels = np.unique(label)"
   ]
  }
 ],
 "metadata": {
  "kernelspec": {
   "display_name": "Python 3",
   "language": "python",
   "name": "python3"
  },
  "language_info": {
   "codemirror_mode": {
    "name": "ipython",
    "version": 3
   },
   "file_extension": ".py",
   "mimetype": "text/x-python",
   "name": "python",
   "nbconvert_exporter": "python",
   "pygments_lexer": "ipython3",
   "version": "3.7.10"
  }
 },
 "nbformat": 4,
 "nbformat_minor": 5
}

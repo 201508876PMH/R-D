{
 "cells": [
  {
   "cell_type": "markdown",
   "id": "761a6e65-c7b5-491d-8316-f00e65ee289f",
   "metadata": {},
   "source": [
    "# NearestNeighbors classifier on MNist data set - Single machine execution"
   ]
  },
  {
   "cell_type": "markdown",
   "id": "bd41b35b-e9fa-4560-802b-6752b383628e",
   "metadata": {},
   "source": [
    "## Task 1 - Load the Mnist data set"
   ]
  },
  {
   "cell_type": "code",
   "execution_count": 1,
   "id": "b48a8bbe-2aaa-4c7a-95f2-782fc898d087",
   "metadata": {},
   "outputs": [
    {
     "name": "stdout",
     "output_type": "stream",
     "text": [
      "60000\n",
      "10000\n",
      "(60000, 28, 28)\n",
      "(10000, 28, 28)\n",
      "[5 0 4 1 9 2 1 3 1 4]\n"
     ]
    }
   ],
   "source": [
    "from keras.datasets import mnist\n",
    "\n",
    "# split data into training and testing 60000/10000\n",
    "(x_train, y_train), (x_test, y_test) = mnist.load_data()\n",
    "\n",
    "print(len(x_train))\n",
    "print(len(x_test))\n",
    "print(x_train.shape)\n",
    "print(x_test.shape)\n",
    "print(y_train[0:10])"
   ]
  },
  {
   "cell_type": "markdown",
   "id": "3eb9a370-99a1-45d5-809a-d898e91ad3d9",
   "metadata": {},
   "source": [
    "## Task 2 - Pre-proccessing of dataset"
   ]
  },
  {
   "cell_type": "code",
   "execution_count": 5,
   "id": "e8010fce-bb32-4ff9-a846-56a81ceba281",
   "metadata": {},
   "outputs": [
    {
     "name": "stdout",
     "output_type": "stream",
     "text": [
      "(10000, 784)\n",
      "(60000, 784)\n"
     ]
    },
    {
     "data": {
      "image/png": "[encoded data removed]",
      "text/plain": [
       "<Figure size 1440x288 with 10 Axes>"
      ]
     },
     "metadata": {
      "needs_background": "light"
     },
     "output_type": "display_data"
    }
   ],
   "source": [
    "import sys\n",
    "sys.path.append('../')\n",
    "from Utils.Utils import Utils\n",
    "\n",
    "# Recaculate values so result is normalized between 0-1\n",
    "x_train = x_train.astype('float32')\n",
    "x_test = x_test.astype('float32')\n",
    "\n",
    "x_train /= 255\n",
    "x_test  /= 255\n",
    "print(x_test.shape)\n",
    "print(x_train.shape)\n",
    "x_train = x_train.reshape([60000,784])\n",
    "x_test = x_test.reshape([10000,784])\n",
    "\n",
    "# print examples\n",
    "util_provider = Utils()\n",
    "util_provider.show_imgs(x_test, 28)"
   ]
  },
  {
   "cell_type": "markdown",
   "id": "e2e78e56-c0a6-436a-bbef-1f68370767cc",
   "metadata": {},
   "source": [
    "## Task 3 - Training"
   ]
  },
  {
   "cell_type": "code",
   "execution_count": 19,
   "id": "5e950ebb-66a4-4533-a397-7bd2f2c91c28",
   "metadata": {},
   "outputs": [
    {
     "name": "stdout",
     "output_type": "stream",
     "text": [
      "(60000, 784)\n"
     ]
    },
    {
     "data": {
      "text/plain": [
       "KNeighborsClassifier()"
      ]
     },
     "execution_count": 19,
     "metadata": {},
     "output_type": "execute_result"
    }
   ],
   "source": [
    "import numpy as np\n",
    "from sklearn import neighbors\n",
    "\n",
    "print(x_train.shape)\n",
    "model = neighbors.KNeighborsClassifier(n_neighbors=5, weights='uniform')\n",
    "\n",
    "# Fit model\n",
    "model.fit(x_train, y_train)"
   ]
  },
  {
   "cell_type": "markdown",
   "id": "2d2ca424-25d9-4b10-a33c-af4e34ab28e7",
   "metadata": {},
   "source": [
    "## Task 4 - Model evaluation"
   ]
  },
  {
   "cell_type": "code",
   "execution_count": 20,
   "id": "44015ab5-a461-4e2e-b38b-677a6194ad1b",
   "metadata": {},
   "outputs": [],
   "source": [
    "successRate = model.score(x_test, y_test)"
   ]
  },
  {
   "cell_type": "code",
   "execution_count": 24,
   "id": "f55adecb-ce37-4fa1-9e76-c2dc90d462c1",
   "metadata": {},
   "outputs": [
    {
     "name": "stdout",
     "output_type": "stream",
     "text": [
      "Success rate: 96.88%\n"
     ]
    }
   ],
   "source": [
    "print(f\"Success rate: {successRate*100}%\")"
   ]
  }
 ],
 "metadata": {
  "kernelspec": {
   "display_name": "Python 3",
   "language": "python",
   "name": "python3"
  },
  "language_info": {
   "codemirror_mode": {
    "name": "ipython",
    "version": 3
   },
   "file_extension": ".py",
   "mimetype": "text/x-python",
   "name": "python",
   "nbconvert_exporter": "python",
   "pygments_lexer": "ipython3",
   "version": "3.7.10"
  }
 },
 "nbformat": 4,
 "nbformat_minor": 5
}

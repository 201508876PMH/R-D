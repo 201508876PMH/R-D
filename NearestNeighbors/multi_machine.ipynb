{
 "cells": [
  {
   "cell_type": "markdown",
   "id": "de0836ef-e4fa-43e7-8bd7-8ed7b577f154",
   "metadata": {},
   "source": [
    "# NearestNeighbors classifier on MNist data set - Multi machine execution w. DASK"
   ]
  },
  {
   "cell_type": "markdown",
   "id": "1d6f5206-b6f8-462a-a47d-835ff8a1aa20",
   "metadata": {},
   "source": [
    "## Task 1 - Load the Mnist data set"
   ]
  },
  {
   "cell_type": "code",
   "execution_count": 1,
   "id": "1381c980-df7f-4d7c-81dc-9b912d769b75",
   "metadata": {},
   "outputs": [
    {
     "name": "stdout",
     "output_type": "stream",
     "text": [
      "60000\n",
      "10000\n",
      "(60000, 28, 28)\n",
      "(10000, 28, 28)\n",
      "[5 0 4 1 9 2 1 3 1 4]\n"
     ]
    }
   ],
   "source": [
    "from keras.datasets import mnist\n",
    "\n",
    "# split data into training and testing 60000/10000\n",
    "(x_train, y_train), (x_test, y_test) = mnist.load_data()\n",
    "\n",
    "print(len(x_train))\n",
    "print(len(x_test))\n",
    "print(x_train.shape)\n",
    "print(x_test.shape)\n",
    "print(y_train[0:10])"
   ]
  },
  {
   "cell_type": "markdown",
   "id": "18bc5363-d293-44dd-b8f3-0eed8c8569a9",
   "metadata": {},
   "source": [
    "## Task 2 - Pre-proccessing of dataset"
   ]
  },
  {
   "cell_type": "code",
   "execution_count": 4,
   "id": "d66fa930-b31a-4144-834d-9b351810f2be",
   "metadata": {},
   "outputs": [
    {
     "ename": "SyntaxError",
     "evalue": "invalid syntax (<ipython-input-4-9be190bedf44>, line 2)",
     "output_type": "error",
     "traceback": [
      "\u001b[0;36m  File \u001b[0;32m\"<ipython-input-4-9be190bedf44>\"\u001b[0;36m, line \u001b[0;32m2\u001b[0m\n\u001b[0;31m    cluster =\u001b[0m\n\u001b[0m              ^\u001b[0m\n\u001b[0;31mSyntaxError\u001b[0m\u001b[0;31m:\u001b[0m invalid syntax\n"
     ]
    }
   ],
   "source": [
    "from dask.distributed import Scheduler, Worker, Client\n",
    "cluster = \n",
    "client = Client()"
   ]
  }
 ],
 "metadata": {
  "kernelspec": {
   "display_name": "Python 3",
   "language": "python",
   "name": "python3"
  },
  "language_info": {
   "codemirror_mode": {
    "name": "ipython",
    "version": 3
   },
   "file_extension": ".py",
   "mimetype": "text/x-python",
   "name": "python",
   "nbconvert_exporter": "python",
   "pygments_lexer": "ipython3",
   "version": "3.7.10"
  }
 },
 "nbformat": 4,
 "nbformat_minor": 5
}
